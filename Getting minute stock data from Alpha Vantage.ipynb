{
 "cells": [
  {
   "cell_type": "markdown",
   "metadata": {},
   "source": [
    "AlphaVantange is good source of data. It's a Y Combinator backed startup, so quite modern and accessible for everyone, not only for big firms.\n",
    "\n",
    "https://www.alphavantage.co/#page-top\n",
    "\n",
    "API docs for alphavantage:\n",
    "\n",
    "https://www.alphavantage.co/documentation/\n",
    "\n",
    "Python lib for alphavantage:\n",
    "\n",
    "https://alpha-vantage.readthedocs.io/en/latest/\n",
    "\n",
    "Anybody can get an API token for free (you need one to use the lib):\n",
    "\n",
    "https://www.alphavantage.co/support/#api-key\n",
    "\n",
    "Free usage of alphavantage is 5 API requests per minute and 500 requests per day. [More costs money](https://www.alphavantage.co/premium/), e.g. 50 USD/month for 75 API requests per minute."
   ]
  },
  {
   "cell_type": "markdown",
   "metadata": {},
   "source": [
    "### Requirements\n",
    "\n",
    "```\n",
    "$ pip install alpha_vantage\n",
    "$ pip install pandas\n",
    "```"
   ]
  },
  {
   "cell_type": "code",
   "execution_count": 88,
   "metadata": {},
   "outputs": [],
   "source": [
    "from alpha_vantage.timeseries import TimeSeries\n",
    "import pandas as pd\n",
    "import matplotlib.pyplot as plt\n",
    "import time\n",
    "\n",
    "# create and use your own API KEY in https://www.alphavantage.co/support/#api-key\n",
    "AVKEY = \"SZSXPC6IOIFFYQ8X\""
   ]
  },
  {
   "cell_type": "code",
   "execution_count": 81,
   "metadata": {},
   "outputs": [],
   "source": [
    "# This function will get minute data about a symbol from given time slice\n",
    "# more possible options: https://www.alphavantage.co/documentation/#intraday-extended\n",
    "# it will return pandas dataframe shown below, with timestamp as index\n",
    "\n",
    "\n",
    "\n",
    "def get_price_slice(symbol, slice='year1month1'):\n",
    "    ts = TimeSeries(key=AVKEY,output_format=\"csv\")\n",
    "    rawcsv, meta = ts.get_intraday_extended('AAPL',interval='1min', slice=slice)\n",
    "    l = list(rawcsv)\n",
    "    df = pd.DataFrame.from_records(l[1:], columns=l[0])\n",
    "    df['time'] = pd.to_datetime(df.time)\n",
    "    df.set_index('time',inplace=True)\n",
    "    for c in ['open', 'high','low','close','volume']:\n",
    "        df[c] = df[c].astype(float)\n",
    "    return df.copy()\n",
    "\n",
    "# slice param:\n",
    "#\n",
    "# Two years of minute-level intraday data contains over 2 million data points, which can take up to Gigabytes\n",
    "# of memory. To ensure optimal API response speed, the trailing 2 years of intraday data is evenly divided into\n",
    "# 24 \"slices\" - year1month1, year1month2, year1month3, ..., year1month11, year1month12, year2month1, year2month2,\n",
    "# year2month3, ..., year2month11, year2month12. Each slice is a 30-day window, with year1month1 being the most \n",
    "# recent and year2month12 being the farthest from today. By default, slice=year1month1."
   ]
  },
  {
   "cell_type": "code",
   "execution_count": 72,
   "metadata": {},
   "outputs": [],
   "source": [
    "aapl = get_price_slice('AAPL')\n"
   ]
  },
  {
   "cell_type": "code",
   "execution_count": 73,
   "metadata": {},
   "outputs": [
    {
     "data": {
      "text/plain": [
       "<AxesSubplot:xlabel='time'>"
      ]
     },
     "execution_count": 73,
     "metadata": {},
     "output_type": "execute_result"
    },
    {
     "data": {
      "image/png": "[encoded data removed]",
      "text/plain": [
       "<Figure size 432x288 with 1 Axes>"
      ]
     },
     "metadata": {
      "needs_background": "light"
     },
     "output_type": "display_data"
    }
   ],
   "source": [
    "aapl.close.plot()"
   ]
  },
  {
   "cell_type": "code",
   "execution_count": 82,
   "metadata": {},
   "outputs": [
    {
     "data": {
      "text/html": [
       "<div>\n",
       "<style scoped>\n",
       "    .dataframe tbody tr th:only-of-type {\n",
       "        vertical-align: middle;\n",
       "    }\n",
       "\n",
       "    .dataframe tbody tr th {\n",
       "        vertical-align: top;\n",
       "    }\n",
       "\n",
       "    .dataframe thead th {\n",
       "        text-align: right;\n",
       "    }\n",
       "</style>\n",
       "<table border=\"1\" class=\"dataframe\">\n",
       "  <thead>\n",
       "    <tr style=\"text-align: right;\">\n",
       "      <th></th>\n",
       "      <th>open</th>\n",
       "      <th>high</th>\n",
       "      <th>low</th>\n",
       "      <th>close</th>\n",
       "      <th>volume</th>\n",
       "    </tr>\n",
       "    <tr>\n",
       "      <th>time</th>\n",
       "      <th></th>\n",
       "      <th></th>\n",
       "      <th></th>\n",
       "      <th></th>\n",
       "      <th></th>\n",
       "    </tr>\n",
       "  </thead>\n",
       "  <tbody>\n",
       "    <tr>\n",
       "      <th>2021-07-02 20:00:00</th>\n",
       "      <td>139.92</td>\n",
       "      <td>139.92</td>\n",
       "      <td>139.85</td>\n",
       "      <td>139.85</td>\n",
       "      <td>1493.0</td>\n",
       "    </tr>\n",
       "    <tr>\n",
       "      <th>2021-07-02 19:59:00</th>\n",
       "      <td>139.87</td>\n",
       "      <td>139.90</td>\n",
       "      <td>139.87</td>\n",
       "      <td>139.87</td>\n",
       "      <td>1000.0</td>\n",
       "    </tr>\n",
       "    <tr>\n",
       "      <th>2021-07-02 19:58:00</th>\n",
       "      <td>139.87</td>\n",
       "      <td>139.89</td>\n",
       "      <td>139.87</td>\n",
       "      <td>139.89</td>\n",
       "      <td>1431.0</td>\n",
       "    </tr>\n",
       "    <tr>\n",
       "      <th>2021-07-02 19:57:00</th>\n",
       "      <td>139.90</td>\n",
       "      <td>139.90</td>\n",
       "      <td>139.89</td>\n",
       "      <td>139.89</td>\n",
       "      <td>1153.0</td>\n",
       "    </tr>\n",
       "    <tr>\n",
       "      <th>2021-07-02 19:55:00</th>\n",
       "      <td>139.87</td>\n",
       "      <td>139.89</td>\n",
       "      <td>139.85</td>\n",
       "      <td>139.89</td>\n",
       "      <td>5670.0</td>\n",
       "    </tr>\n",
       "  </tbody>\n",
       "</table>\n",
       "</div>"
      ],
      "text/plain": [
       "                       open    high     low   close  volume\n",
       "time                                                       \n",
       "2021-07-02 20:00:00  139.92  139.92  139.85  139.85  1493.0\n",
       "2021-07-02 19:59:00  139.87  139.90  139.87  139.87  1000.0\n",
       "2021-07-02 19:58:00  139.87  139.89  139.87  139.89  1431.0\n",
       "2021-07-02 19:57:00  139.90  139.90  139.89  139.89  1153.0\n",
       "2021-07-02 19:55:00  139.87  139.89  139.85  139.89  5670.0"
      ]
     },
     "execution_count": 82,
     "metadata": {},
     "output_type": "execute_result"
    }
   ],
   "source": [
    "aapl.head()"
   ]
  },
  {
   "cell_type": "code",
   "execution_count": null,
   "metadata": {},
   "outputs": [],
   "source": []
  },
  {
   "cell_type": "code",
   "execution_count": null,
   "metadata": {},
   "outputs": [],
   "source": []
  },
  {
   "cell_type": "markdown",
   "metadata": {},
   "source": [
    "It's very difficult to do automatic trading, there's a lot to it:\n",
    "\n",
    "- training data collection\n",
    "- compiling data together to training matrix/tensor\n",
    "- normalization\n",
    "- feature design\n",
    "- model design\n",
    "- training and model evaluation\n",
    "- getting realtime data from a feed, and then using trained model to evaluate current situation, and then act on it over some trading platform\n",
    "- then monitoring open positions\n",
    "\n",
    "All those points besides the last two are illustrated in this tutorial from Alpha Vantage, they use model with LSTMs to predict some stock price:\n",
    "\n",
    "https://www.alphavantage.co/academy/#lstm-for-finance"
   ]
  },
  {
   "cell_type": "code",
   "execution_count": null,
   "metadata": {},
   "outputs": [],
   "source": []
  },
  {
   "cell_type": "code",
   "execution_count": 83,
   "metadata": {},
   "outputs": [],
   "source": [
    "# In theory, you can a whole year of minute data \n",
    "#slices = [\"year1month%d\" % m for m in range(1,13)]\n",
    "slices = [\"year1month%d\" % m for m in range(1,5)]"
   ]
  },
  {
   "cell_type": "code",
   "execution_count": 84,
   "metadata": {},
   "outputs": [],
   "source": [
    "dfs = [get_price_slice(\"AAPL\", s) for s in slices]"
   ]
  },
  {
   "cell_type": "code",
   "execution_count": 85,
   "metadata": {},
   "outputs": [
    {
     "data": {
      "text/plain": [
       "4"
      ]
     },
     "execution_count": 85,
     "metadata": {},
     "output_type": "execute_result"
    }
   ],
   "source": [
    "len(dfs)"
   ]
  },
  {
   "cell_type": "code",
   "execution_count": null,
   "metadata": {},
   "outputs": [],
   "source": []
  },
  {
   "cell_type": "code",
   "execution_count": 86,
   "metadata": {},
   "outputs": [],
   "source": [
    "r = pd.concat(dfs)"
   ]
  },
  {
   "cell_type": "code",
   "execution_count": 87,
   "metadata": {},
   "outputs": [
    {
     "data": {
      "text/plain": [
       "<AxesSubplot:xlabel='time'>"
      ]
     },
     "execution_count": 87,
     "metadata": {},
     "output_type": "execute_result"
    },
    {
     "data": {
      "image/png": "[encoded data removed]",
      "text/plain": [
       "<Figure size 432x288 with 1 Axes>"
      ]
     },
     "metadata": {
      "needs_background": "light"
     },
     "output_type": "display_data"
    }
   ],
   "source": [
    "r.close.plot()"
   ]
  },
  {
   "cell_type": "code",
   "execution_count": null,
   "metadata": {},
   "outputs": [],
   "source": []
  },
  {
   "cell_type": "code",
   "execution_count": 95,
   "metadata": {},
   "outputs": [],
   "source": [
    "# downloads year worth of minute data and saves it to hdf file given in fn\n",
    "def get_save_year_price(symbol, fn):\n",
    "    slices = [\"year1month%d\" % m for m in range(1,3)]\n",
    "    dfs = []\n",
    "    for s in slices:\n",
    "        if len(dfs) != 0:\n",
    "            # API limit is 5 quieries per minute\n",
    "            print(\"Sleeping for 15 sec\")\n",
    "            time.sleep(15)\n",
    "        print(\"Downloading %s %s\" % (symbol, s))\n",
    "        df = get_price_slice(symbol, s)\n",
    "        dfs.append(df)        \n",
    "        time.sleep(15)\n",
    "    year = pd.concat(dfs)\n",
    "    year.to_hdf(fn, key='df')\n",
    "    return year.copy()\n",
    "        \n",
    "    "
   ]
  },
  {
   "cell_type": "code",
   "execution_count": 96,
   "metadata": {},
   "outputs": [
    {
     "name": "stdout",
     "output_type": "stream",
     "text": [
      "Downloading MSFT year1month1\n",
      "Sleeping for 15 sec\n",
      "Downloading MSFT year1month2\n"
     ]
    }
   ],
   "source": [
    "w = get_save_year_price(\"MSFT\", \"msft.hd5\")"
   ]
  },
  {
   "cell_type": "code",
   "execution_count": 93,
   "metadata": {},
   "outputs": [],
   "source": [
    "msft = pd.read_hdf(\"msft.hd5\", \"df\")"
   ]
  },
  {
   "cell_type": "code",
   "execution_count": 94,
   "metadata": {},
   "outputs": [
    {
     "data": {
      "text/plain": [
       "<AxesSubplot:xlabel='time'>"
      ]
     },
     "execution_count": 94,
     "metadata": {},
     "output_type": "execute_result"
    },
    {
     "data": {
      "image/png": "[encoded data removed]",
      "text/plain": [
       "<Figure size 432x288 with 1 Axes>"
      ]
     },
     "metadata": {
      "needs_background": "light"
     },
     "output_type": "display_data"
    }
   ],
   "source": [
    "msft.close.plot()"
   ]
  },
  {
   "cell_type": "code",
   "execution_count": null,
   "metadata": {},
   "outputs": [],
   "source": []
  }
 ],
 "metadata": {
  "kernelspec": {
   "display_name": "jup",
   "language": "python",
   "name": "jup"
  },
  "language_info": {
   "codemirror_mode": {
    "name": "ipython",
    "version": 3
   },
   "file_extension": ".py",
   "mimetype": "text/x-python",
   "name": "python",
   "nbconvert_exporter": "python",
   "pygments_lexer": "ipython3",
   "version": "3.8.5"
  }
 },
 "nbformat": 4,
 "nbformat_minor": 4
}
